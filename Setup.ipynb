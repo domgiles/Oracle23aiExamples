{
 "cells": [
  {
   "cell_type": "markdown",
   "id": "ed5578c6-097f-4c17-ac66-e62ae28fbfa4",
   "metadata": {},
   "source": [
    "## Examples Setup\n",
    "The following steps walk you through the steps needed to create the user for the demo and enable the schema for ords. **NOTE :** You should have installed ORDS against your target database, and it should running, before executing the following steps."
   ]
  },
  {
   "cell_type": "code",
   "execution_count": null,
   "id": "986e5f23-ffb0-467b-90eb-b773dd81f872",
   "metadata": {},
   "outputs": [],
   "source": [
    "import oracledb\n",
    "from HelperFunctions import execute_plsql\n",
    "\n",
    "%reload_ext sql"
   ]
  },
  {
   "cell_type": "markdown",
   "id": "5b788cbf-8aaf-4bc4-8369-aa54019f4fba",
   "metadata": {},
   "source": [
    "**UPDATE the following cell with the details of the username and password for a user with privileges to create users i.e. ```SYS```. and then the details of the user you want to create** "
   ]
  },
  {
   "cell_type": "code",
   "execution_count": null,
   "id": "09b3f215-7ee5-4841-bd4d-cf87febd8675",
   "metadata": {},
   "outputs": [],
   "source": [
    "# Provide the details of the database user with DBA prvilege\n",
    "sys_username = 'sys'\n",
    "sys_password = 'welcome1'\n",
    "\n",
    "# The connection string of your target database\n",
    "db_connect_string = '//192.168.86.235/soe'\n",
    "\n",
    "# The username of the user to run the demo from\n",
    "user_name = 'ora23c'\n",
    "user_password = 'ora23c'\n"
   ]
  },
  {
   "cell_type": "markdown",
   "id": "273f51ac-2e66-49b3-af25-28dc25179914",
   "metadata": {},
   "source": [
    "The rest of the cells create the user and grants them the necessary privileges to run the examples."
   ]
  },
  {
   "cell_type": "code",
   "execution_count": null,
   "id": "e2241611-e9bf-47d5-9cc8-5086c4a64cf5",
   "metadata": {},
   "outputs": [],
   "source": [
    "dba_connection = oracledb.connect(user=sys_username, password=sys_password, dsn=db_connect_string, mode=oracledb.AUTH_MODE_SYSDBA)\n",
    "cursor = dba_connection.cursor() \n",
    "cursor.execute(f'DROP USER IF EXISTS {user_name} CASCADE ')\n",
    "cursor.execute(f'CREATE USER {user_name} IDENTIFIED BY {user_password} ')\n",
    "cursor.execute(f\"ALTER USER {user_name} DEFAULT TABLESPACE USERS QUOTA UNLIMITED ON USERS\")\n",
    "cursor.execute(f\"ALTER USER {user_name} TEMPORARY TABLESPACE TEMP\")\n",
    "cursor.execute(f\"GRANT CONNECT, RESOURCE, DB_DEVELOPER_ROLE, CREATE MLE to {user_name}\")\n",
    "cursor.execute(f\"GRANT EXECUTE ON JAVASCRIPT to {user_name}\")"
   ]
  },
  {
   "cell_type": "markdown",
   "id": "96c629d5-40cd-4c0d-b840-1c6ea16f1bc0",
   "metadata": {},
   "source": [
    "Once the user has been created it then enables the user for REST access by Oracle ORDS"
   ]
  },
  {
   "cell_type": "code",
   "execution_count": null,
   "id": "0dff40e5-fb8c-42a9-89d5-2298cda6b5b9",
   "metadata": {},
   "outputs": [],
   "source": [
    "user_connection = oracledb.connect(user=user_name, password=user_password, dsn=db_connect_string)"
   ]
  },
  {
   "cell_type": "code",
   "execution_count": null,
   "id": "80c8dcad-9ec4-4bed-90eb-006d87c2899e",
   "metadata": {},
   "outputs": [],
   "source": [
    "cursor = user_connection.cursor()\n",
    "cursor.execute(\"select * from all_objects where object_name = 'ORDS'\")\n",
    "result_set = cursor.fetchmany()\n",
    "if len(result_set) > 0:\n",
    "    cursor.execute(f'''\n",
    "        begin\n",
    "            ORDS.enable_schema(\n",
    "                p_enabled             => TRUE,\n",
    "                p_schema              => '{user_name}',\n",
    "                p_url_mapping_type    => 'BASE_PATH',\n",
    "                p_url_mapping_pattern => '{user_name}',\n",
    "                p_auto_rest_auth      => TRUE\n",
    "              );\n",
    "        end;''')\n",
    "    cursor.execute(f'''\n",
    "        BEGIN\n",
    "            ORDS.ENABLE_OBJECT(\n",
    "                    p_object => 'CUSTOMERS_DV',\n",
    "                    p_object_type => 'VIEW'\n",
    "                );\n",
    "        END;''')\n",
    "else:\n",
    "    print(\"ORDS hasn't been installed in the database\")"
   ]
  },
  {
   "cell_type": "markdown",
   "id": "2ec64809-54d4-4a87-a775-f50f433ba9f2",
   "metadata": {},
   "source": [
    "### Drop user\n",
    "The following code will drop the user created above"
   ]
  },
  {
   "cell_type": "code",
   "execution_count": null,
   "id": "7ae8885a-bf36-4cdd-8b15-6fecfaa3f0f8",
   "metadata": {},
   "outputs": [],
   "source": [
    "dba_connection = oracledb.connect(user=sys_username, password=sys_password, dsn=db_connect_string, mode=oracledb.AUTH_MODE_SYSDBA)"
   ]
  },
  {
   "cell_type": "code",
   "execution_count": null,
   "id": "cdf99246-6591-419c-94ac-a24cdaffa98e",
   "metadata": {},
   "outputs": [],
   "source": [
    "cursor.execute(f'DROP USER IF EXISTS {user_name} CASCADE ')"
   ]
  }
 ],
 "metadata": {
  "kernelspec": {
   "display_name": "Python 3 (ipykernel)",
   "language": "python",
   "name": "python3"
  },
  "language_info": {
   "codemirror_mode": {
    "name": "ipython",
    "version": 3
   },
   "file_extension": ".py",
   "mimetype": "text/x-python",
   "name": "python",
   "nbconvert_exporter": "python",
   "pygments_lexer": "ipython3",
   "version": "3.11.2"
  }
 },
 "nbformat": 4,
 "nbformat_minor": 5
}
