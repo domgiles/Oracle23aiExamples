{
 "cells": [
  {
   "cell_type": "markdown",
   "id": "ed5578c6-097f-4c17-ac66-e62ae28fbfa4",
   "metadata": {},
   "source": [
    "## Examples Setup\n",
    "The following steps walk you through the steps needed to create the user for the demo and enable the schema for ords. **NOTE :** You should have installed ORDS against your target database, and it should running, before executing the following steps."
   ]
  },
  {
   "cell_type": "code",
   "execution_count": 6,
   "id": "986e5f23-ffb0-467b-90eb-b773dd81f872",
   "metadata": {},
   "outputs": [],
   "source": [
    "import oracledb\n",
    "from HelperFunctions import execute_plsql\n",
    "\n",
    "%reload_ext sql"
   ]
  },
  {
   "cell_type": "markdown",
   "id": "5b788cbf-8aaf-4bc4-8369-aa54019f4fba",
   "metadata": {},
   "source": [
    "**UPDATE the following cell with the details of the username and password for a user with privileges to create users i.e. ```SYS```. and then the details of the user you want to create** "
   ]
  },
  {
   "cell_type": "code",
   "execution_count": 62,
   "id": "09b3f215-7ee5-4841-bd4d-cf87febd8675",
   "metadata": {},
   "outputs": [],
   "source": [
    "# Provide the details of the database user with DBA prvilege\n",
    "sys_username = 'sys'\n",
    "sys_password = 'welcome1'\n",
    "\n",
    "# The connection string of your target database\n",
    "db_connect_string = '//192.168.86.235/soe'\n",
    "\n",
    "# The username of the user to run the demo from\n",
    "user_name = 'ora23c'\n",
    "user_password = 'ora23c'\n"
   ]
  },
  {
   "cell_type": "markdown",
   "id": "273f51ac-2e66-49b3-af25-28dc25179914",
   "metadata": {},
   "source": [
    "The rest of the cells create the user and grants them the necessary privileges to run the examples."
   ]
  },
  {
   "cell_type": "code",
   "execution_count": 14,
   "id": "e2241611-e9bf-47d5-9cc8-5086c4a64cf5",
   "metadata": {},
   "outputs": [],
   "source": [
    "dba_connection = oracledb.connect(user=sys_username, password=sys_password, dsn=db_connect_string, mode=oracledb.AUTH_MODE_SYSDBA)"
   ]
  },
  {
   "cell_type": "code",
   "execution_count": 53,
   "id": "b8eea1d6-eddc-4281-aac7-ccd43e9d2673",
   "metadata": {},
   "outputs": [],
   "source": [
    "cursor.execute(f'DROP USER IF EXISTS {user_name} CASCADE ')"
   ]
  },
  {
   "cell_type": "code",
   "execution_count": 54,
   "id": "50f9bb36-186a-4c96-95a6-1c2b87a297db",
   "metadata": {},
   "outputs": [],
   "source": [
    "cursor = dba_connection.cursor()\n",
    "cursor.execute(f'CREATE USER {user_name} IDENTIFIED BY {user_password} ')\n",
    "cursor.execute(f\"ALTER USER {user_name} DEFAULT TABLESPACE USERS QUOTA UNLIMITED ON USERS\")\n",
    "cursor.execute(f\"ALTER USER {user_name} TEMPORARY TABLESPACE TEMP\")\n",
    "cursor.execute(f\"GRANT CONNECT, RESOURCE, DB_DEVELOPER_ROLE, CREATE MLE to {user_name}\")\n",
    "cursor.execute(f\"GRANT EXECUTE ON JAVASCRIPT to {user_name}\")"
   ]
  },
  {
   "cell_type": "markdown",
   "id": "96c629d5-40cd-4c0d-b840-1c6ea16f1bc0",
   "metadata": {},
   "source": [
    "Once the user has been created it then enables the user for REST access by Oracle ORDS"
   ]
  },
  {
   "cell_type": "code",
   "execution_count": 56,
   "id": "0dff40e5-fb8c-42a9-89d5-2298cda6b5b9",
   "metadata": {},
   "outputs": [],
   "source": [
    "user_connection = oracledb.connect(user=user_name, password=user_password, dsn=db_connect_string)"
   ]
  },
  {
   "cell_type": "code",
   "execution_count": 59,
   "id": "80c8dcad-9ec4-4bed-90eb-006d87c2899e",
   "metadata": {},
   "outputs": [],
   "source": [
    "cursor = user_connection.cursor()\n",
    "cursor.execute(\"select * from all_objects where object_name = 'ORDS'\")\n",
    "result_set = cursor.fetchmany()\n",
    "if len(result_set) > 0:\n",
    "    cursor.execute(f'''\n",
    "        begin\n",
    "            ORDS.enable_schema(\n",
    "                p_enabled             => TRUE,\n",
    "                p_schema              => '{user_name}',\n",
    "                p_url_mapping_type    => 'BASE_PATH',\n",
    "                p_url_mapping_pattern => '{user_name}',\n",
    "                p_auto_rest_auth      => TRUE\n",
    "              );\n",
    "        end;''')\n",
    "    cursor.execute(f'''\n",
    "        BEGIN\n",
    "            ORDS.ENABLE_OBJECT(\n",
    "                    p_object => 'CUSTOMERS_DV',\n",
    "                    p_object_type => 'VIEW'\n",
    "                );\n",
    "        END;''')\n",
    "else:\n",
    "    print(\"ORDS hasn't been installed in the database\")"
   ]
  },
  {
   "cell_type": "code",
   "execution_count": null,
   "id": "b5e6e802-5453-460d-8cc2-913ea1b15f52",
   "metadata": {},
   "outputs": [],
   "source": []
  },
  {
   "cell_type": "markdown",
   "id": "2ec64809-54d4-4a87-a775-f50f433ba9f2",
   "metadata": {},
   "source": [
    "### Drop user\n",
    "The following code will drop the user created above"
   ]
  },
  {
   "cell_type": "code",
   "execution_count": 63,
   "id": "7ae8885a-bf36-4cdd-8b15-6fecfaa3f0f8",
   "metadata": {},
   "outputs": [],
   "source": [
    "dba_connection = oracledb.connect(user=sys_username, password=sys_password, dsn=db_connect_string, mode=oracledb.AUTH_MODE_SYSDBA)"
   ]
  },
  {
   "cell_type": "code",
   "execution_count": 64,
   "id": "cdf99246-6591-419c-94ac-a24cdaffa98e",
   "metadata": {},
   "outputs": [
    {
     "ename": "DatabaseError",
     "evalue": "ORA-01031: insufficient privileges\nHelp: https://docs.oracle.com/error-help/db/ora-01031/",
     "output_type": "error",
     "traceback": [
      "\u001B[0;31m---------------------------------------------------------------------------\u001B[0m",
      "\u001B[0;31mDatabaseError\u001B[0m                             Traceback (most recent call last)",
      "Cell \u001B[0;32mIn[64], line 1\u001B[0m\n\u001B[0;32m----> 1\u001B[0m \u001B[43mcursor\u001B[49m\u001B[38;5;241;43m.\u001B[39;49m\u001B[43mexecute\u001B[49m\u001B[43m(\u001B[49m\u001B[38;5;124;43mf\u001B[39;49m\u001B[38;5;124;43m'\u001B[39;49m\u001B[38;5;124;43mDROP USER IF EXISTS \u001B[39;49m\u001B[38;5;132;43;01m{\u001B[39;49;00m\u001B[43muser_name\u001B[49m\u001B[38;5;132;43;01m}\u001B[39;49;00m\u001B[38;5;124;43m CASCADE \u001B[39;49m\u001B[38;5;124;43m'\u001B[39;49m\u001B[43m)\u001B[49m\n",
      "File \u001B[0;32m~/pyenv3/lib/python3.11/site-packages/oracledb-2.0.0b1-py3.11-macosx-13-arm64.egg/oracledb/cursor.py:383\u001B[0m, in \u001B[0;36mCursor.execute\u001B[0;34m(self, statement, parameters, **keyword_parameters)\u001B[0m\n\u001B[1;32m    381\u001B[0m \u001B[38;5;28;01mif\u001B[39;00m parameters \u001B[38;5;129;01mis\u001B[39;00m \u001B[38;5;129;01mnot\u001B[39;00m \u001B[38;5;28;01mNone\u001B[39;00m:\n\u001B[1;32m    382\u001B[0m     impl\u001B[38;5;241m.\u001B[39mbind_one(\u001B[38;5;28mself\u001B[39m, parameters)\n\u001B[0;32m--> 383\u001B[0m \u001B[43mimpl\u001B[49m\u001B[38;5;241;43m.\u001B[39;49m\u001B[43mexecute\u001B[49m\u001B[43m(\u001B[49m\u001B[38;5;28;43mself\u001B[39;49m\u001B[43m)\u001B[49m\n\u001B[1;32m    384\u001B[0m \u001B[38;5;28;01mif\u001B[39;00m impl\u001B[38;5;241m.\u001B[39mfetch_vars \u001B[38;5;129;01mis\u001B[39;00m \u001B[38;5;129;01mnot\u001B[39;00m \u001B[38;5;28;01mNone\u001B[39;00m:\n\u001B[1;32m    385\u001B[0m     \u001B[38;5;28;01mreturn\u001B[39;00m \u001B[38;5;28mself\u001B[39m\n",
      "File \u001B[0;32msrc/oracledb/impl/thin/cursor.pyx:132\u001B[0m, in \u001B[0;36moracledb.thin_impl.ThinCursorImpl.execute\u001B[0;34m()\u001B[0m\n",
      "File \u001B[0;32msrc/oracledb/impl/thin/protocol.pyx:420\u001B[0m, in \u001B[0;36moracledb.thin_impl.Protocol._process_single_message\u001B[0;34m()\u001B[0m\n",
      "File \u001B[0;32msrc/oracledb/impl/thin/protocol.pyx:421\u001B[0m, in \u001B[0;36moracledb.thin_impl.Protocol._process_single_message\u001B[0;34m()\u001B[0m\n",
      "File \u001B[0;32msrc/oracledb/impl/thin/protocol.pyx:414\u001B[0m, in \u001B[0;36moracledb.thin_impl.Protocol._process_message\u001B[0;34m()\u001B[0m\n",
      "\u001B[0;31mDatabaseError\u001B[0m: ORA-01031: insufficient privileges\nHelp: https://docs.oracle.com/error-help/db/ora-01031/"
     ]
    }
   ],
   "source": [
    "cursor.execute(f'DROP USER IF EXISTS {user_name} CASCADE ')"
   ]
  },
  {
   "cell_type": "code",
   "execution_count": null,
   "id": "592a6b61-588f-4f37-9ca9-267157383f69",
   "metadata": {},
   "outputs": [],
   "source": []
  }
 ],
 "metadata": {
  "kernelspec": {
   "display_name": "Python 3 (ipykernel)",
   "language": "python",
   "name": "python3"
  },
  "language_info": {
   "codemirror_mode": {
    "name": "ipython",
    "version": 3
   },
   "file_extension": ".py",
   "mimetype": "text/x-python",
   "name": "python",
   "nbconvert_exporter": "python",
   "pygments_lexer": "ipython3",
   "version": "3.11.2"
  }
 },
 "nbformat": 4,
 "nbformat_minor": 5
}
